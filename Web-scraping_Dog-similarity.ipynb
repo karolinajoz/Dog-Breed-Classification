{
 "cells": [
  {
   "cell_type": "markdown",
   "metadata": {},
   "source": [
    "## Import libraries"
   ]
  },
  {
   "cell_type": "code",
   "execution_count": 1,
   "metadata": {},
   "outputs": [],
   "source": [
    "import time\n",
    "from datetime import date, datetime, timedelta\n",
    "import requests\n",
    "from bs4 import BeautifulSoup as BS\n",
    "\n",
    "import csv\n",
    "import pandas as pd\n",
    "import numpy as np\n",
    "\n",
    "import json"
   ]
  },
  {
   "cell_type": "code",
   "execution_count": 8,
   "metadata": {},
   "outputs": [],
   "source": [
    "import sqlite3"
   ]
  },
  {
   "cell_type": "code",
   "execution_count": 37,
   "metadata": {},
   "outputs": [],
   "source": [
    "from selenium import webdriver\n",
    "from selenium.webdriver.support.ui import WebDriverWait"
   ]
  },
  {
   "cell_type": "code",
   "execution_count": 29,
   "metadata": {},
   "outputs": [],
   "source": [
    "import textdistance"
   ]
  },
  {
   "cell_type": "code",
   "execution_count": 203,
   "metadata": {},
   "outputs": [],
   "source": [
    "from sklearn.metrics.pairwise import cosine_similarity\n",
    "from sklearn import preprocessing"
   ]
  },
  {
   "cell_type": "markdown",
   "metadata": {},
   "source": [
    "## Web scraping"
   ]
  },
  {
   "cell_type": "markdown",
   "metadata": {},
   "source": [
    "### Setting up Selenium"
   ]
  },
  {
   "cell_type": "code",
   "execution_count": 38,
   "metadata": {},
   "outputs": [],
   "source": [
    "driver = webdriver.Chrome()"
   ]
  },
  {
   "cell_type": "code",
   "execution_count": 39,
   "metadata": {},
   "outputs": [],
   "source": [
    "driver.get(url)"
   ]
  },
  {
   "cell_type": "code",
   "execution_count": 128,
   "metadata": {},
   "outputs": [
    {
     "name": "stdout",
     "output_type": "stream",
     "text": [
      "https://www.petfinder.com/dog-breeds/affenpinscher/\n"
     ]
    }
   ],
   "source": [
    "url = 'https://www.petfinder.com/dog-breeds/affenpinscher/'\n",
    "print(url)\n",
    "driver = webdriver.Chrome()\n",
    "driver.get(url_dog)\n",
    "elems = driver.find_elements_by_class_name('grid.grid_gutterLg.m-grid_alignBottom')"
   ]
  },
  {
   "cell_type": "code",
   "execution_count": 134,
   "metadata": {},
   "outputs": [
    {
     "data": {
      "text/plain": [
       "'ENERGY LEVEL\\n3 out of 5\\nEXERCISE REQUIREMENTS\\n3 out of 5\\nPLAYFULNESS\\n4 out of 5\\nAFFECTION LEVEL\\n5 out of 5\\nFRIENDLINESS TO DOGS\\n5 out of 5\\nFRIENDLINESS TO OTHER PETS\\n5 out of 5\\nFRIENDLINESS TO STRANGERS\\n4 out of 5\\nWATCHFULNESS\\n1 out of 5\\nEASE OF TRAINING\\n4 out of 5\\nGROOMING REQUIREMENTS\\n4 out of 5\\nHEAT SENSITIVITY\\n3 out of 5\\nVOCALITY\\n4 out of 5'"
      ]
     },
     "execution_count": 134,
     "metadata": {},
     "output_type": "execute_result"
    }
   ],
   "source": [
    "driver.find_element_by_xpath('//*[@id=\"Site\"]/div/div/div[1]/div/div[1]/div/div[1]/div[3]/div[2]/div[2]').text"
   ]
  },
  {
   "cell_type": "code",
   "execution_count": 144,
   "metadata": {},
   "outputs": [],
   "source": [
    "driver.quit()"
   ]
  },
  {
   "cell_type": "markdown",
   "metadata": {},
   "source": [
    "### Pagination"
   ]
  },
  {
   "cell_type": "markdown",
   "metadata": {},
   "source": [
    "#### Finding class with dog breed names and direct links to their website"
   ]
  },
  {
   "cell_type": "code",
   "execution_count": null,
   "metadata": {},
   "outputs": [],
   "source": [
    "list_of_dogs = []\n",
    "list_of_dogs_mod =[]\n",
    "driver = webdriver.Chrome()\n",
    "for i in range(1,26):\n",
    "    print(i)\n",
    "    all_dogs = f'https://www.petfinder.com/dog-breeds/?page={i}'\n",
    "    driver.get(all_dogs)\n",
    "    wait = WebDriverWait(driver, 3)\n",
    "    elems = driver.find_elements_by_class_name('contentCard.contentCard_breed.m-contentCard_persistant')\n",
    "    for x in elems:\n",
    "        if len(x.text) > 3:\n",
    "            dog = x.text.split('\\n')[0]\n",
    "            list_of_dogs.append(dog)\n",
    "            list_of_dogs_mod.append(dog.lower().replace(' ','-'))\n",
    "driver.quit()"
   ]
  },
  {
   "cell_type": "markdown",
   "metadata": {},
   "source": [
    "#### Getting information about dog characteristics for each breed available on the website"
   ]
  },
  {
   "cell_type": "code",
   "execution_count": null,
   "metadata": {},
   "outputs": [],
   "source": [
    "driver = webdriver.Chrome()\n",
    "features = []\n",
    "for dog in list_of_dogs_mod:\n",
    "    url_dog = f\"https://www.petfinder.com/dog-breeds/{dog}\"\n",
    "    print(url_dog)\n",
    "    wait = WebDriverWait(driver, 5)\n",
    "    try:\n",
    "        driver.get(url_dog)\n",
    "        features.append(driver.find_element_by_xpath('//*[@id=\"Site\"]/div/div/div[1]/div/div[1]/div/div[1]/div[3]/div[2]/div[2]').text)\n",
    "    except:\n",
    "        print(dog, 'no website')\n",
    "        features.append(None)\n",
    "        continue\n",
    "driver.quit()"
   ]
  },
  {
   "cell_type": "code",
   "execution_count": 161,
   "metadata": {},
   "outputs": [
    {
     "data": {
      "text/plain": [
       "195"
      ]
     },
     "execution_count": 161,
     "metadata": {},
     "output_type": "execute_result"
    }
   ],
   "source": [
    "len(features)"
   ]
  },
  {
   "cell_type": "markdown",
   "metadata": {},
   "source": [
    "Found 195 different dog breeds on PetFinder website"
   ]
  },
  {
   "cell_type": "code",
   "execution_count": 250,
   "metadata": {},
   "outputs": [],
   "source": [
    "first = pd.concat([pd.DataFrame([[col][0]], columns = ['label_name', 'energy_level']) for col in list(zip(list_of_dogs_mod,features))],ignore_index = True)"
   ]
  },
  {
   "cell_type": "code",
   "execution_count": 251,
   "metadata": {
    "scrolled": true
   },
   "outputs": [
    {
     "data": {
      "text/html": [
       "<div>\n",
       "<style scoped>\n",
       "    .dataframe tbody tr th:only-of-type {\n",
       "        vertical-align: middle;\n",
       "    }\n",
       "\n",
       "    .dataframe tbody tr th {\n",
       "        vertical-align: top;\n",
       "    }\n",
       "\n",
       "    .dataframe thead th {\n",
       "        text-align: right;\n",
       "    }\n",
       "</style>\n",
       "<table border=\"1\" class=\"dataframe\">\n",
       "  <thead>\n",
       "    <tr style=\"text-align: right;\">\n",
       "      <th></th>\n",
       "      <th>label_name</th>\n",
       "      <th>energy_level</th>\n",
       "    </tr>\n",
       "  </thead>\n",
       "  <tbody>\n",
       "    <tr>\n",
       "      <th>0</th>\n",
       "      <td>affenpinscher</td>\n",
       "      <td>ENERGY LEVEL\\n4 out of 5\\nEXERCISE REQUIREMENT...</td>\n",
       "    </tr>\n",
       "    <tr>\n",
       "      <th>1</th>\n",
       "      <td>afghan-hound</td>\n",
       "      <td>ENERGY LEVEL\\n2 out of 5\\nEXERCISE REQUIREMENT...</td>\n",
       "    </tr>\n",
       "    <tr>\n",
       "      <th>2</th>\n",
       "      <td>airedale-terrier</td>\n",
       "      <td>ENERGY LEVEL\\n4 out of 5\\nEXERCISE REQUIREMENT...</td>\n",
       "    </tr>\n",
       "    <tr>\n",
       "      <th>3</th>\n",
       "      <td>akita</td>\n",
       "      <td>ENERGY LEVEL\\n3 out of 5\\nEXERCISE REQUIREMENT...</td>\n",
       "    </tr>\n",
       "    <tr>\n",
       "      <th>4</th>\n",
       "      <td>alaskan-klee-kai</td>\n",
       "      <td>ENERGY LEVEL\\n4 out of 5\\nEXERCISE REQUIREMENT...</td>\n",
       "    </tr>\n",
       "  </tbody>\n",
       "</table>\n",
       "</div>"
      ],
      "text/plain": [
       "         label_name                                       energy_level\n",
       "0     affenpinscher  ENERGY LEVEL\\n4 out of 5\\nEXERCISE REQUIREMENT...\n",
       "1      afghan-hound  ENERGY LEVEL\\n2 out of 5\\nEXERCISE REQUIREMENT...\n",
       "2  airedale-terrier  ENERGY LEVEL\\n4 out of 5\\nEXERCISE REQUIREMENT...\n",
       "3             akita  ENERGY LEVEL\\n3 out of 5\\nEXERCISE REQUIREMENT...\n",
       "4  alaskan-klee-kai  ENERGY LEVEL\\n4 out of 5\\nEXERCISE REQUIREMENT..."
      ]
     },
     "execution_count": 251,
     "metadata": {},
     "output_type": "execute_result"
    }
   ],
   "source": [
    "first.head()"
   ]
  },
  {
   "cell_type": "markdown",
   "metadata": {},
   "source": [
    "#### Cleaning the scraped information"
   ]
  },
  {
   "cell_type": "code",
   "execution_count": 252,
   "metadata": {},
   "outputs": [],
   "source": [
    "first['energy_level_2'] = first.energy_level.apply(lambda x: x.split('\\n')[1].split(' ')[0] if x else x)\n",
    "first['exercise_reqs'] = first.energy_level.apply(lambda x: x.split('\\n')[3].split(' ')[0] if x else x)\n",
    "first['playfulness'] = first.energy_level.apply(lambda x: x.split('\\n')[5].split(' ')[0] if x else x)\n",
    "first['affection_lvl'] = first.energy_level.apply(lambda x: x.split('\\n')[7].split(' ')[0] if x else x)\n",
    "first['friend_dogs'] = first.energy_level.apply(lambda x: x.split('\\n')[9].split(' ')[0] if x else x)\n",
    "first['friend_pets'] = first.energy_level.apply(lambda x: x.split('\\n')[11].split(' ')[0] if x else x)\n",
    "first['friend_strangers'] = first.energy_level.apply(lambda x: x.split('\\n')[13].split(' ')[0] if x else x)\n",
    "first['watchfulness'] = first.energy_level.apply(lambda x: x.split('\\n')[15].split(' ')[0] if x else x)\n",
    "first['easy_training'] = first.energy_level.apply(lambda x: x.split('\\n')[17].split(' ')[0] if x else x)\n",
    "first['grooming'] = first.energy_level.apply(lambda x: x.split('\\n')[19].split(' ')[0] if x else x)\n",
    "first['heat_sensitive'] = first.energy_level.apply(lambda x: x.split('\\n')[21].split(' ')[0] if x else x)\n",
    "first['vocality'] = first.energy_level.apply(lambda x: x.split('\\n')[23].split(' ')[0] if x else x)"
   ]
  },
  {
   "cell_type": "code",
   "execution_count": 254,
   "metadata": {},
   "outputs": [],
   "source": [
    "first.to_csv('dog_features_table.csv', index = False)"
   ]
  },
  {
   "cell_type": "code",
   "execution_count": 115,
   "metadata": {},
   "outputs": [],
   "source": [
    "dog_features = pd.read_csv('dog_features_table.csv')"
   ]
  },
  {
   "cell_type": "code",
   "execution_count": 116,
   "metadata": {
    "collapsed": true
   },
   "outputs": [
    {
     "data": {
      "text/html": [
       "<div>\n",
       "<style scoped>\n",
       "    .dataframe tbody tr th:only-of-type {\n",
       "        vertical-align: middle;\n",
       "    }\n",
       "\n",
       "    .dataframe tbody tr th {\n",
       "        vertical-align: top;\n",
       "    }\n",
       "\n",
       "    .dataframe thead th {\n",
       "        text-align: right;\n",
       "    }\n",
       "</style>\n",
       "<table border=\"1\" class=\"dataframe\">\n",
       "  <thead>\n",
       "    <tr style=\"text-align: right;\">\n",
       "      <th></th>\n",
       "      <th>label_name</th>\n",
       "      <th>energy_level</th>\n",
       "      <th>energy_level_2</th>\n",
       "      <th>exercise_reqs</th>\n",
       "      <th>playfulness</th>\n",
       "      <th>affection_lvl</th>\n",
       "      <th>friend_dogs</th>\n",
       "      <th>friend_pets</th>\n",
       "      <th>friend_strangers</th>\n",
       "      <th>watchfulness</th>\n",
       "      <th>easy_training</th>\n",
       "      <th>grooming</th>\n",
       "      <th>heat_sensitive</th>\n",
       "      <th>vocality</th>\n",
       "    </tr>\n",
       "  </thead>\n",
       "  <tbody>\n",
       "    <tr>\n",
       "      <th>0</th>\n",
       "      <td>affenpinscher</td>\n",
       "      <td>ENERGY LEVEL\\r\\n4 out of 5\\r\\nEXERCISE REQUIRE...</td>\n",
       "      <td>4.0</td>\n",
       "      <td>3.0</td>\n",
       "      <td>4.0</td>\n",
       "      <td>4.0</td>\n",
       "      <td>3.0</td>\n",
       "      <td>3.0</td>\n",
       "      <td>3.0</td>\n",
       "      <td>1.0</td>\n",
       "      <td>3.0</td>\n",
       "      <td>4.0</td>\n",
       "      <td>4.0</td>\n",
       "      <td>5.0</td>\n",
       "    </tr>\n",
       "    <tr>\n",
       "      <th>1</th>\n",
       "      <td>afghan-hound</td>\n",
       "      <td>ENERGY LEVEL\\r\\n2 out of 5\\r\\nEXERCISE REQUIRE...</td>\n",
       "      <td>2.0</td>\n",
       "      <td>3.0</td>\n",
       "      <td>3.0</td>\n",
       "      <td>1.0</td>\n",
       "      <td>3.0</td>\n",
       "      <td>3.0</td>\n",
       "      <td>1.0</td>\n",
       "      <td>1.0</td>\n",
       "      <td>2.0</td>\n",
       "      <td>4.0</td>\n",
       "      <td>3.0</td>\n",
       "      <td>3.0</td>\n",
       "    </tr>\n",
       "    <tr>\n",
       "      <th>2</th>\n",
       "      <td>airedale-terrier</td>\n",
       "      <td>ENERGY LEVEL\\r\\n4 out of 5\\r\\nEXERCISE REQUIRE...</td>\n",
       "      <td>4.0</td>\n",
       "      <td>3.0</td>\n",
       "      <td>4.0</td>\n",
       "      <td>3.0</td>\n",
       "      <td>1.0</td>\n",
       "      <td>2.0</td>\n",
       "      <td>3.0</td>\n",
       "      <td>4.0</td>\n",
       "      <td>3.0</td>\n",
       "      <td>4.0</td>\n",
       "      <td>3.0</td>\n",
       "      <td>4.0</td>\n",
       "    </tr>\n",
       "    <tr>\n",
       "      <th>3</th>\n",
       "      <td>akita</td>\n",
       "      <td>ENERGY LEVEL\\r\\n3 out of 5\\r\\nEXERCISE REQUIRE...</td>\n",
       "      <td>3.0</td>\n",
       "      <td>3.0</td>\n",
       "      <td>3.0</td>\n",
       "      <td>3.0</td>\n",
       "      <td>1.0</td>\n",
       "      <td>2.0</td>\n",
       "      <td>1.0</td>\n",
       "      <td>4.0</td>\n",
       "      <td>3.0</td>\n",
       "      <td>2.0</td>\n",
       "      <td>5.0</td>\n",
       "      <td>5.0</td>\n",
       "    </tr>\n",
       "    <tr>\n",
       "      <th>4</th>\n",
       "      <td>alaskan-klee-kai</td>\n",
       "      <td>ENERGY LEVEL\\r\\n4 out of 5\\r\\nEXERCISE REQUIRE...</td>\n",
       "      <td>4.0</td>\n",
       "      <td>4.0</td>\n",
       "      <td>4.0</td>\n",
       "      <td>4.0</td>\n",
       "      <td>2.0</td>\n",
       "      <td>1.0</td>\n",
       "      <td>2.0</td>\n",
       "      <td>4.0</td>\n",
       "      <td>4.0</td>\n",
       "      <td>3.0</td>\n",
       "      <td>3.0</td>\n",
       "      <td>3.0</td>\n",
       "    </tr>\n",
       "  </tbody>\n",
       "</table>\n",
       "</div>"
      ],
      "text/plain": [
       "         label_name                                       energy_level  \\\n",
       "0     affenpinscher  ENERGY LEVEL\\r\\n4 out of 5\\r\\nEXERCISE REQUIRE...   \n",
       "1      afghan-hound  ENERGY LEVEL\\r\\n2 out of 5\\r\\nEXERCISE REQUIRE...   \n",
       "2  airedale-terrier  ENERGY LEVEL\\r\\n4 out of 5\\r\\nEXERCISE REQUIRE...   \n",
       "3             akita  ENERGY LEVEL\\r\\n3 out of 5\\r\\nEXERCISE REQUIRE...   \n",
       "4  alaskan-klee-kai  ENERGY LEVEL\\r\\n4 out of 5\\r\\nEXERCISE REQUIRE...   \n",
       "\n",
       "   energy_level_2  exercise_reqs  playfulness  affection_lvl  friend_dogs  \\\n",
       "0             4.0            3.0          4.0            4.0          3.0   \n",
       "1             2.0            3.0          3.0            1.0          3.0   \n",
       "2             4.0            3.0          4.0            3.0          1.0   \n",
       "3             3.0            3.0          3.0            3.0          1.0   \n",
       "4             4.0            4.0          4.0            4.0          2.0   \n",
       "\n",
       "   friend_pets  friend_strangers  watchfulness  easy_training  grooming  \\\n",
       "0          3.0               3.0           1.0            3.0       4.0   \n",
       "1          3.0               1.0           1.0            2.0       4.0   \n",
       "2          2.0               3.0           4.0            3.0       4.0   \n",
       "3          2.0               1.0           4.0            3.0       2.0   \n",
       "4          1.0               2.0           4.0            4.0       3.0   \n",
       "\n",
       "   heat_sensitive  vocality  \n",
       "0             4.0       5.0  \n",
       "1             3.0       3.0  \n",
       "2             3.0       4.0  \n",
       "3             5.0       5.0  \n",
       "4             3.0       3.0  "
      ]
     },
     "execution_count": 116,
     "metadata": {},
     "output_type": "execute_result"
    }
   ],
   "source": [
    "dog_features.head()"
   ]
  },
  {
   "cell_type": "markdown",
   "metadata": {},
   "source": [
    "## Dog similarity"
   ]
  },
  {
   "cell_type": "markdown",
   "metadata": {},
   "source": [
    "#### Image recogniition system for dog breeds and dog characteristics datasets will be merged on breed names to build a recommendation system for similar dog based on its features."
   ]
  },
  {
   "cell_type": "markdown",
   "metadata": {},
   "source": [
    "Reading labels from dog breed recognition model"
   ]
  },
  {
   "cell_type": "code",
   "execution_count": 117,
   "metadata": {},
   "outputs": [
    {
     "data": {
      "text/html": [
       "<div>\n",
       "<style scoped>\n",
       "    .dataframe tbody tr th:only-of-type {\n",
       "        vertical-align: middle;\n",
       "    }\n",
       "\n",
       "    .dataframe tbody tr th {\n",
       "        vertical-align: top;\n",
       "    }\n",
       "\n",
       "    .dataframe thead th {\n",
       "        text-align: right;\n",
       "    }\n",
       "</style>\n",
       "<table border=\"1\" class=\"dataframe\">\n",
       "  <thead>\n",
       "    <tr style=\"text-align: right;\">\n",
       "      <th></th>\n",
       "      <th>label_name</th>\n",
       "    </tr>\n",
       "  </thead>\n",
       "  <tbody>\n",
       "    <tr>\n",
       "      <th>0</th>\n",
       "      <td>Afghan_hound</td>\n",
       "    </tr>\n",
       "    <tr>\n",
       "      <th>1</th>\n",
       "      <td>African_hunting_dog</td>\n",
       "    </tr>\n",
       "    <tr>\n",
       "      <th>2</th>\n",
       "      <td>Airedale</td>\n",
       "    </tr>\n",
       "    <tr>\n",
       "      <th>3</th>\n",
       "      <td>American_Staffordshire_terrier</td>\n",
       "    </tr>\n",
       "    <tr>\n",
       "      <th>4</th>\n",
       "      <td>Appenzeller</td>\n",
       "    </tr>\n",
       "  </tbody>\n",
       "</table>\n",
       "</div>"
      ],
      "text/plain": [
       "                       label_name\n",
       "0                    Afghan_hound\n",
       "1             African_hunting_dog\n",
       "2                        Airedale\n",
       "3  American_Staffordshire_terrier\n",
       "4                     Appenzeller"
      ]
     },
     "execution_count": 117,
     "metadata": {},
     "output_type": "execute_result"
    }
   ],
   "source": [
    "classes_labels = pd.read_csv('label_list_trained.csv')\n",
    "classes_labels.head()"
   ]
  },
  {
   "cell_type": "markdown",
   "metadata": {},
   "source": [
    "Modify labels to similar format as in PetFinder urls"
   ]
  },
  {
   "cell_type": "code",
   "execution_count": 118,
   "metadata": {},
   "outputs": [
    {
     "data": {
      "text/html": [
       "<div>\n",
       "<style scoped>\n",
       "    .dataframe tbody tr th:only-of-type {\n",
       "        vertical-align: middle;\n",
       "    }\n",
       "\n",
       "    .dataframe tbody tr th {\n",
       "        vertical-align: top;\n",
       "    }\n",
       "\n",
       "    .dataframe thead th {\n",
       "        text-align: right;\n",
       "    }\n",
       "</style>\n",
       "<table border=\"1\" class=\"dataframe\">\n",
       "  <thead>\n",
       "    <tr style=\"text-align: right;\">\n",
       "      <th></th>\n",
       "      <th>label_name</th>\n",
       "      <th>label_name_mod</th>\n",
       "    </tr>\n",
       "  </thead>\n",
       "  <tbody>\n",
       "    <tr>\n",
       "      <th>0</th>\n",
       "      <td>Afghan_hound</td>\n",
       "      <td>afghan-hound</td>\n",
       "    </tr>\n",
       "    <tr>\n",
       "      <th>1</th>\n",
       "      <td>African_hunting_dog</td>\n",
       "      <td>african-hunting-dog</td>\n",
       "    </tr>\n",
       "    <tr>\n",
       "      <th>2</th>\n",
       "      <td>Airedale</td>\n",
       "      <td>airedale</td>\n",
       "    </tr>\n",
       "    <tr>\n",
       "      <th>3</th>\n",
       "      <td>American_Staffordshire_terrier</td>\n",
       "      <td>american-staffordshire-terrier</td>\n",
       "    </tr>\n",
       "    <tr>\n",
       "      <th>4</th>\n",
       "      <td>Appenzeller</td>\n",
       "      <td>appenzeller</td>\n",
       "    </tr>\n",
       "  </tbody>\n",
       "</table>\n",
       "</div>"
      ],
      "text/plain": [
       "                       label_name                  label_name_mod\n",
       "0                    Afghan_hound                    afghan-hound\n",
       "1             African_hunting_dog             african-hunting-dog\n",
       "2                        Airedale                        airedale\n",
       "3  American_Staffordshire_terrier  american-staffordshire-terrier\n",
       "4                     Appenzeller                     appenzeller"
      ]
     },
     "execution_count": 118,
     "metadata": {},
     "output_type": "execute_result"
    }
   ],
   "source": [
    "classes_labels['label_name_mod'] = classes_labels.label_name.apply(lambda x: x.lower().replace('_', '-'))\n",
    "classes_labels.head()"
   ]
  },
  {
   "cell_type": "markdown",
   "metadata": {},
   "source": [
    "First try matching labels - by same name format"
   ]
  },
  {
   "cell_type": "code",
   "execution_count": 119,
   "metadata": {},
   "outputs": [
    {
     "data": {
      "text/html": [
       "<div>\n",
       "<style scoped>\n",
       "    .dataframe tbody tr th:only-of-type {\n",
       "        vertical-align: middle;\n",
       "    }\n",
       "\n",
       "    .dataframe tbody tr th {\n",
       "        vertical-align: top;\n",
       "    }\n",
       "\n",
       "    .dataframe thead th {\n",
       "        text-align: right;\n",
       "    }\n",
       "</style>\n",
       "<table border=\"1\" class=\"dataframe\">\n",
       "  <thead>\n",
       "    <tr style=\"text-align: right;\">\n",
       "      <th></th>\n",
       "      <th>label_name</th>\n",
       "      <th>label_name_mod</th>\n",
       "      <th>pet_finder_name</th>\n",
       "    </tr>\n",
       "  </thead>\n",
       "  <tbody>\n",
       "    <tr>\n",
       "      <th>0</th>\n",
       "      <td>Afghan_hound</td>\n",
       "      <td>afghan-hound</td>\n",
       "      <td>None</td>\n",
       "    </tr>\n",
       "    <tr>\n",
       "      <th>1</th>\n",
       "      <td>African_hunting_dog</td>\n",
       "      <td>african-hunting-dog</td>\n",
       "      <td>None</td>\n",
       "    </tr>\n",
       "    <tr>\n",
       "      <th>2</th>\n",
       "      <td>Airedale</td>\n",
       "      <td>airedale</td>\n",
       "      <td>None</td>\n",
       "    </tr>\n",
       "    <tr>\n",
       "      <th>3</th>\n",
       "      <td>American_Staffordshire_terrier</td>\n",
       "      <td>american-staffordshire-terrier</td>\n",
       "      <td>None</td>\n",
       "    </tr>\n",
       "    <tr>\n",
       "      <th>4</th>\n",
       "      <td>Appenzeller</td>\n",
       "      <td>appenzeller</td>\n",
       "      <td>None</td>\n",
       "    </tr>\n",
       "  </tbody>\n",
       "</table>\n",
       "</div>"
      ],
      "text/plain": [
       "                       label_name                  label_name_mod  \\\n",
       "0                    Afghan_hound                    afghan-hound   \n",
       "1             African_hunting_dog             african-hunting-dog   \n",
       "2                        Airedale                        airedale   \n",
       "3  American_Staffordshire_terrier  american-staffordshire-terrier   \n",
       "4                     Appenzeller                     appenzeller   \n",
       "\n",
       "  pet_finder_name  \n",
       "0            None  \n",
       "1            None  \n",
       "2            None  \n",
       "3            None  \n",
       "4            None  "
      ]
     },
     "execution_count": 119,
     "metadata": {},
     "output_type": "execute_result"
    }
   ],
   "source": [
    "classes_labels['pet_finder_name'] = None\n",
    "classes_labels.head()"
   ]
  },
  {
   "cell_type": "code",
   "execution_count": 120,
   "metadata": {},
   "outputs": [],
   "source": [
    "classes_labels['pet_finder_name'][0]"
   ]
  },
  {
   "cell_type": "code",
   "execution_count": 121,
   "metadata": {},
   "outputs": [],
   "source": [
    "common = []\n",
    "for i, x in enumerate(list(classes_labels.label_name_mod)):\n",
    "    if x in list(dog_features.label_name):\n",
    "        classes_labels['pet_finder_name'][i] = x\n",
    "        common.append(x)"
   ]
  },
  {
   "cell_type": "code",
   "execution_count": 122,
   "metadata": {},
   "outputs": [
    {
     "data": {
      "text/plain": [
       "73"
      ]
     },
     "execution_count": 122,
     "metadata": {},
     "output_type": "execute_result"
    }
   ],
   "source": [
    "len(common)"
   ]
  },
  {
   "cell_type": "code",
   "execution_count": 123,
   "metadata": {},
   "outputs": [
    {
     "data": {
      "text/html": [
       "<div>\n",
       "<style scoped>\n",
       "    .dataframe tbody tr th:only-of-type {\n",
       "        vertical-align: middle;\n",
       "    }\n",
       "\n",
       "    .dataframe tbody tr th {\n",
       "        vertical-align: top;\n",
       "    }\n",
       "\n",
       "    .dataframe thead th {\n",
       "        text-align: right;\n",
       "    }\n",
       "</style>\n",
       "<table border=\"1\" class=\"dataframe\">\n",
       "  <thead>\n",
       "    <tr style=\"text-align: right;\">\n",
       "      <th></th>\n",
       "      <th>label_name</th>\n",
       "      <th>label_name_mod</th>\n",
       "      <th>pet_finder_name</th>\n",
       "    </tr>\n",
       "  </thead>\n",
       "  <tbody>\n",
       "    <tr>\n",
       "      <th>0</th>\n",
       "      <td>Afghan_hound</td>\n",
       "      <td>afghan-hound</td>\n",
       "      <td>afghan-hound</td>\n",
       "    </tr>\n",
       "    <tr>\n",
       "      <th>1</th>\n",
       "      <td>African_hunting_dog</td>\n",
       "      <td>african-hunting-dog</td>\n",
       "      <td>None</td>\n",
       "    </tr>\n",
       "    <tr>\n",
       "      <th>2</th>\n",
       "      <td>Airedale</td>\n",
       "      <td>airedale</td>\n",
       "      <td>None</td>\n",
       "    </tr>\n",
       "    <tr>\n",
       "      <th>3</th>\n",
       "      <td>American_Staffordshire_terrier</td>\n",
       "      <td>american-staffordshire-terrier</td>\n",
       "      <td>american-staffordshire-terrier</td>\n",
       "    </tr>\n",
       "    <tr>\n",
       "      <th>4</th>\n",
       "      <td>Appenzeller</td>\n",
       "      <td>appenzeller</td>\n",
       "      <td>None</td>\n",
       "    </tr>\n",
       "  </tbody>\n",
       "</table>\n",
       "</div>"
      ],
      "text/plain": [
       "                       label_name                  label_name_mod  \\\n",
       "0                    Afghan_hound                    afghan-hound   \n",
       "1             African_hunting_dog             african-hunting-dog   \n",
       "2                        Airedale                        airedale   \n",
       "3  American_Staffordshire_terrier  american-staffordshire-terrier   \n",
       "4                     Appenzeller                     appenzeller   \n",
       "\n",
       "                  pet_finder_name  \n",
       "0                    afghan-hound  \n",
       "1                            None  \n",
       "2                            None  \n",
       "3  american-staffordshire-terrier  \n",
       "4                            None  "
      ]
     },
     "execution_count": 123,
     "metadata": {},
     "output_type": "execute_result"
    }
   ],
   "source": [
    "classes_labels.head()"
   ]
  },
  {
   "cell_type": "markdown",
   "metadata": {},
   "source": [
    "Only 73 out of 120 breeds were matched based on simple name modification. I will try to use one of text distance algorithms for better matching"
   ]
  },
  {
   "cell_type": "code",
   "execution_count": 126,
   "metadata": {},
   "outputs": [],
   "source": [
    "most_similar = list(np.zeros(120))\n",
    "most_similar_scores = []\n",
    "for i, x in enumerate(list(classes_labels.label_name_mod)):\n",
    "    most_similar[i] = '!'\n",
    "    current = 0\n",
    "    for j, y in enumerate(list(dog_features.label_name)):\n",
    "        if current < textdistance.jaro_winkler(x,y):\n",
    "            most_similar[i] = y\n",
    "            current = textdistance.jaro_winkler(x,y)\n",
    "    if current < 0.8:\n",
    "        most_similar[i] = None\n",
    "    most_similar_scores.append(current)"
   ]
  },
  {
   "cell_type": "code",
   "execution_count": 127,
   "metadata": {},
   "outputs": [],
   "source": [
    "classes_labels['jaro-winkler'] = most_similar"
   ]
  },
  {
   "cell_type": "code",
   "execution_count": 128,
   "metadata": {
    "scrolled": true
   },
   "outputs": [
    {
     "name": "stdout",
     "output_type": "stream",
     "text": [
      "<class 'pandas.core.frame.DataFrame'>\n",
      "RangeIndex: 120 entries, 0 to 119\n",
      "Data columns (total 4 columns):\n",
      "label_name         120 non-null object\n",
      "label_name_mod     120 non-null object\n",
      "pet_finder_name    73 non-null object\n",
      "jaro-winkler       105 non-null object\n",
      "dtypes: object(4)\n",
      "memory usage: 3.8+ KB\n"
     ]
    }
   ],
   "source": [
    "classes_labels.info()"
   ]
  },
  {
   "cell_type": "markdown",
   "metadata": {},
   "source": [
    "Jaro-Winkler text distance algorithm resulted in 105 matching dog names. I will go on with this value to build a recommender system."
   ]
  },
  {
   "cell_type": "markdown",
   "metadata": {},
   "source": [
    "Finding dog features based on the breed name (format as in images)"
   ]
  },
  {
   "cell_type": "code",
   "execution_count": 130,
   "metadata": {},
   "outputs": [
    {
     "data": {
      "text/plain": [
       "array([4.0, 3.0, 4.0, 3.0, 1.0, 2.0, 3.0, 4.0, 3.0, 4.0, 3.0, 4.0],\n",
       "      dtype=object)"
      ]
     },
     "execution_count": 130,
     "metadata": {},
     "output_type": "execute_result"
    }
   ],
   "source": [
    "label = 'Airedale'\n",
    "find_label = classes_labels.loc[classes_labels['label_name'] == label, 'jaro-winkler'].values[0]\n",
    "dog_features.loc[dog_features['label_name'] == find_label].values[0][2:]"
   ]
  },
  {
   "cell_type": "markdown",
   "metadata": {},
   "source": [
    "#### Build a dataframe with image format labels and matching dog characteristics"
   ]
  },
  {
   "cell_type": "code",
   "execution_count": null,
   "metadata": {},
   "outputs": [],
   "source": [
    "features = []\n",
    "for label in list(classes_labels['label_name']):\n",
    "    find_label = classes_labels.loc[classes_labels['label_name'] == label, 'jaro-winkler'].values[0]\n",
    "    if find_label != None:\n",
    "        features.append(list(dog_features.loc[dog_features['label_name'] == find_label].values[0][2:]))\n",
    "        print(features)\n",
    "    else:\n",
    "        features.append(np.zeros(0))\n",
    "        print(np.zeros(11))"
   ]
  },
  {
   "cell_type": "code",
   "execution_count": 151,
   "metadata": {},
   "outputs": [],
   "source": [
    "comb = pd.DataFrame(features,columns=dog_features.columns[2:])"
   ]
  },
  {
   "cell_type": "code",
   "execution_count": 157,
   "metadata": {},
   "outputs": [],
   "source": [
    "comb['label_name'] = list(classes_labels['label_name'])\n",
    "comb['jaro_winkler'] = most_similar"
   ]
  },
  {
   "cell_type": "code",
   "execution_count": 158,
   "metadata": {},
   "outputs": [],
   "source": [
    "comb = comb.set_index('label_name').reset_index()"
   ]
  },
  {
   "cell_type": "code",
   "execution_count": 163,
   "metadata": {},
   "outputs": [],
   "source": [
    "comb.to_csv('combined_features.csv',index = False)"
   ]
  },
  {
   "cell_type": "code",
   "execution_count": 170,
   "metadata": {},
   "outputs": [],
   "source": [
    "# rest of rows updated by hand\n",
    "comb_updated = pd.read_csv('comined_features_updated.csv').fillna('None')"
   ]
  },
  {
   "cell_type": "code",
   "execution_count": 214,
   "metadata": {},
   "outputs": [],
   "source": [
    "def find_features(label):\n",
    "    feature_names = comb_updated.columns[1:-1]\n",
    "    find_features = comb_updated.loc[comb_updated['label_name'] == label].values[0][1:-1]\n",
    "    for i, feature in enumerate(feature_names):\n",
    "        print(f'\\n {feature}: {find_features[i]}')"
   ]
  },
  {
   "cell_type": "code",
   "execution_count": 215,
   "metadata": {
    "collapsed": true
   },
   "outputs": [
    {
     "name": "stdout",
     "output_type": "stream",
     "text": [
      "\n",
      " energy_level_2: 3\n",
      "\n",
      " exercise_reqs: 1\n",
      "\n",
      " playfulness: 3\n",
      "\n",
      " affection_lvl: 3\n",
      "\n",
      " friend_dogs: 3\n",
      "\n",
      " friend_pets: 4\n",
      "\n",
      " friend_strangers: 3\n",
      "\n",
      " watchfulness: 1\n",
      "\n",
      " easy_training: 3\n",
      "\n",
      " grooming: 1\n",
      "\n",
      " heat_sensitive: 5\n",
      "\n",
      " vocality: 5\n"
     ]
    }
   ],
   "source": [
    "label = 'Boston_bull'\n",
    "find_features(label)"
   ]
  },
  {
   "cell_type": "markdown",
   "metadata": {},
   "source": [
    "Scaling dog characteristics"
   ]
  },
  {
   "cell_type": "code",
   "execution_count": 248,
   "metadata": {},
   "outputs": [],
   "source": [
    "x = comb_updated[comb_updated.columns[1:-1]].values #returns a numpy array\n",
    "min_max_scaler = preprocessing.MinMaxScaler()\n",
    "x_scaled = min_max_scaler.fit_transform(x)\n",
    "comb_scaled = pd.DataFrame(x_scaled)"
   ]
  },
  {
   "cell_type": "code",
   "execution_count": 251,
   "metadata": {},
   "outputs": [
    {
     "data": {
      "text/plain": [
       "(120, 12)"
      ]
     },
     "execution_count": 251,
     "metadata": {},
     "output_type": "execute_result"
    }
   ],
   "source": [
    "comb_scaled.shape"
   ]
  },
  {
   "cell_type": "markdown",
   "metadata": {},
   "source": [
    "Finding similar dog based on the dog characteristics - example dog - Border terrier - index in images - 10"
   ]
  },
  {
   "cell_type": "code",
   "execution_count": 249,
   "metadata": {
    "scrolled": true
   },
   "outputs": [
    {
     "name": "stdout",
     "output_type": "stream",
     "text": [
      "\n",
      "\n",
      " Border_terrier\n",
      "\n",
      " energy_level_2: 3\n",
      "\n",
      " exercise_reqs: 3\n",
      "\n",
      " playfulness: 3\n",
      "\n",
      " affection_lvl: 3\n",
      "\n",
      " friend_dogs: 3\n",
      "\n",
      " friend_pets: 2\n",
      "\n",
      " friend_strangers: 3\n",
      "\n",
      " watchfulness: 1\n",
      "\n",
      " easy_training: 4\n",
      "\n",
      " grooming: 3\n",
      "\n",
      " heat_sensitive: 3\n",
      "\n",
      " vocality: 4\n",
      "\n",
      "\n",
      " miniature_poodle\n",
      "\n",
      " energy_level_2: 4\n",
      "\n",
      " exercise_reqs: 3\n",
      "\n",
      " playfulness: 5\n",
      "\n",
      " affection_lvl: 4\n",
      "\n",
      " friend_dogs: 4\n",
      "\n",
      " friend_pets: 3\n",
      "\n",
      " friend_strangers: 4\n",
      "\n",
      " watchfulness: 1\n",
      "\n",
      " easy_training: 5\n",
      "\n",
      " grooming: 5\n",
      "\n",
      " heat_sensitive: 3\n",
      "\n",
      " vocality: 5\n",
      "\n",
      "\n",
      " Norwich_terrier\n",
      "\n",
      " energy_level_2: 4\n",
      "\n",
      " exercise_reqs: 3\n",
      "\n",
      " playfulness: 3\n",
      "\n",
      " affection_lvl: 4\n",
      "\n",
      " friend_dogs: 3\n",
      "\n",
      " friend_pets: 3\n",
      "\n",
      " friend_strangers: 3\n",
      "\n",
      " watchfulness: 1\n",
      "\n",
      " easy_training: 3\n",
      "\n",
      " grooming: 3\n",
      "\n",
      " heat_sensitive: 3\n",
      "\n",
      " vocality: 5\n",
      "\n",
      "\n",
      " miniature_schnauzer\n",
      "\n",
      " energy_level_2: 3\n",
      "\n",
      " exercise_reqs: 3\n",
      "\n",
      " playfulness: 4\n",
      "\n",
      " affection_lvl: 4\n",
      "\n",
      " friend_dogs: 3\n",
      "\n",
      " friend_pets: 3\n",
      "\n",
      " friend_strangers: 3\n",
      "\n",
      " watchfulness: 1\n",
      "\n",
      " easy_training: 3\n",
      "\n",
      " grooming: 3\n",
      "\n",
      " heat_sensitive: 3\n",
      "\n",
      " vocality: 5\n",
      "\n",
      "\n",
      " West_Highland_white_terrier\n",
      "\n",
      " energy_level_2: 4\n",
      "\n",
      " exercise_reqs: 3\n",
      "\n",
      " playfulness: 3\n",
      "\n",
      " affection_lvl: 5\n",
      "\n",
      " friend_dogs: 3\n",
      "\n",
      " friend_pets: 3\n",
      "\n",
      " friend_strangers: 4\n",
      "\n",
      " watchfulness: 1\n",
      "\n",
      " easy_training: 4\n",
      "\n",
      " grooming: 4\n",
      "\n",
      " heat_sensitive: 3\n",
      "\n",
      " vocality: 4\n",
      "\n",
      "\n",
      " affenpinscher\n",
      "\n",
      " energy_level_2: 4\n",
      "\n",
      " exercise_reqs: 3\n",
      "\n",
      " playfulness: 4\n",
      "\n",
      " affection_lvl: 4\n",
      "\n",
      " friend_dogs: 3\n",
      "\n",
      " friend_pets: 3\n",
      "\n",
      " friend_strangers: 3\n",
      "\n",
      " watchfulness: 1\n",
      "\n",
      " easy_training: 3\n",
      "\n",
      " grooming: 4\n",
      "\n",
      " heat_sensitive: 4\n",
      "\n",
      " vocality: 5\n"
     ]
    }
   ],
   "source": [
    "for dog in [x[0] for x in sorted(list(zip(list(comb_updated.label_name),(cosine_similarity(comb_scaled)[10]))), key=lambda x: x[1], reverse = True)[:6]]:\n",
    "    print('\\n\\n',dog)\n",
    "    find_features(dog)"
   ]
  },
  {
   "cell_type": "markdown",
   "metadata": {},
   "source": [
    "This approach will be used in dog recognition and recommendation app in 'streamlit_script.py and prediction.py'"
   ]
  }
 ],
 "metadata": {
  "kernelspec": {
   "display_name": "Python 3",
   "language": "python",
   "name": "python3"
  },
  "language_info": {
   "codemirror_mode": {
    "name": "ipython",
    "version": 3
   },
   "file_extension": ".py",
   "mimetype": "text/x-python",
   "name": "python",
   "nbconvert_exporter": "python",
   "pygments_lexer": "ipython3",
   "version": "3.7.3"
  }
 },
 "nbformat": 4,
 "nbformat_minor": 2
}
